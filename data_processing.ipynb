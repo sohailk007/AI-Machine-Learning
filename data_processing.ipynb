{
 "cells": [
  {
   "cell_type": "code",
   "execution_count": 11,
   "id": "18b2fac8",
   "metadata": {},
   "outputs": [
    {
     "name": "stdout",
     "output_type": "stream",
     "text": [
      "Original DataFrame\n",
      "     Name   Age    Salary\n",
      "0  Sohail  24.0   45000.0\n",
      "1  Sameer  26.0       NaN\n",
      "2   Rocky   NaN   23000.0\n",
      "3  Khalid  23.0       NaN\n",
      "4    Umar   NaN  125000.0\n",
      "Name       0.0\n",
      "Age       40.0\n",
      "Salary    40.0\n",
      "dtype: float64\n"
     ]
    }
   ],
   "source": [
    "import pandas as pd\n",
    "\n",
    "data = {\n",
    "    \"Name\": [\"Sohail\",\"Sameer\",\"Rocky\",\"Khalid\",\"Umar\"],\n",
    "    \"Age\": [24,26,None,23,None],\n",
    "    \"Salary\": [45000,None,23000,None,125000]\n",
    "}\n",
    "\n",
    "df = pd.DataFrame(data)\n",
    "print(\"Original DataFrame\")\n",
    "print(df)\n",
    "\n",
    "#print(df.isnull().sum())\n",
    "\n",
    "#df_drop = df.dropna()\n",
    "#print(df_drop)\n",
    "\n",
    "# df['Age'].fillna(df['Age'].mean(), inplace=True)\n",
    "# df['Salary'].fillna(df['Salary'].mean(), inplace=True)\n",
    "\n",
    "# print(df)\n",
    "\n",
    "print(df.isnull().mean() * 100)"
   ]
  }
 ],
 "metadata": {
  "kernelspec": {
   "display_name": "Python 3",
   "language": "python",
   "name": "python3"
  },
  "language_info": {
   "codemirror_mode": {
    "name": "ipython",
    "version": 3
   },
   "file_extension": ".py",
   "mimetype": "text/x-python",
   "name": "python",
   "nbconvert_exporter": "python",
   "pygments_lexer": "ipython3",
   "version": "3.12.6"
  }
 },
 "nbformat": 4,
 "nbformat_minor": 5
}
