{
 "cells": [
  {
   "cell_type": "code",
   "execution_count": null,
   "id": "18b2fac8",
   "metadata": {},
   "outputs": [],
   "source": [
    "import pandas as pd\n",
    "\n",
    "data = {\n",
    "    \"Name\": [\"Sohail\",\"Sameer\",\"Rocky\",\"Khalid\",\"Umar\"],\n",
    "    \"Age\": [24,26,None,23,None],\n",
    "    \"Salary\": [45000,None,23000,None,125000]\n",
    "}\n",
    "\n",
    "df = pd.DataFrame(data)\n",
    "print(\"Original DataFrame\")\n",
    "print(df)\n",
    "\n",
    "#print(df.isnull().sum())\n",
    "\n",
    "#df_drop = df.dropna()\n",
    "#print(df_drop)\n",
    "\n",
    "# df['Age'].fillna(df['Age'].mean(), inplace=True)\n",
    "# df['Salary'].fillna(df['Salary'].mean(), inplace=True)\n",
    "\n",
    "# print(df)\n",
    "\n",
    "print(df.isnull().mean() * 100)"
   ]
  },
  {
   "cell_type": "code",
   "execution_count": null,
   "id": "3f5d346f",
   "metadata": {},
   "outputs": [],
   "source": [
    "from sklearn.preprocessing import LabelEncoder\n",
    "import pandas as pd\n",
    "\n",
    "df = pd.read_csv(\"sample_data.csv\")\n",
    "\n",
    "df_label = df.copy()\n",
    "\n",
    "le = LabelEncoder()\n",
    "df_label['Gender_Encoded'] = le.fit_transform(df_label['Gender'])\n",
    "df_label['Passed_Encoded'] = le.fit_transform(df_label['Passed'])\n",
    "\n",
    "# print('\\nLabel Encoded Data')\n",
    "# print(df_label[['Name','Gender','Gender_Encoded','Passed','Passed_Encoded']])\n",
    "\n",
    "df_encoded = pd.get_dummies(df_label, columns=['City'])\n",
    "print('\\nOne-Hot Encoded Data (City)')\n",
    "print(df_encoded)\n",
    "\n",
    "\n"
   ]
  },
  {
   "cell_type": "code",
   "execution_count": 3,
   "id": "fb5167b3",
   "metadata": {},
   "outputs": [
    {
     "ename": "TypeError",
     "evalue": "TransformerMixin.fit_transform() missing 1 required positional argument: 'X'",
     "output_type": "error",
     "traceback": [
      "\u001b[1;31m---------------------------------------------------------------------------\u001b[0m",
      "\u001b[1;31mTypeError\u001b[0m                                 Traceback (most recent call last)",
      "Cell \u001b[1;32mIn[3], line 4\u001b[0m\n\u001b[0;32m      1\u001b[0m \u001b[38;5;28;01mfrom\u001b[39;00m\u001b[38;5;250m \u001b[39m\u001b[38;5;21;01msklearn\u001b[39;00m\u001b[38;5;21;01m.\u001b[39;00m\u001b[38;5;21;01mpreprocessing\u001b[39;00m\u001b[38;5;250m \u001b[39m\u001b[38;5;28;01mimport\u001b[39;00m StandardScaler, MinMaxScaler\n\u001b[0;32m      3\u001b[0m scaler \u001b[38;5;241m=\u001b[39m StandardScaler()\n\u001b[1;32m----> 4\u001b[0m x_scaled \u001b[38;5;241m=\u001b[39m \u001b[43mscaler\u001b[49m\u001b[38;5;241;43m.\u001b[39;49m\u001b[43mfit_transform\u001b[49m\u001b[43m(\u001b[49m\u001b[43m)\u001b[49m\n\u001b[0;32m      6\u001b[0m scaler \u001b[38;5;241m=\u001b[39m MinMaxScaler()\n\u001b[0;32m      7\u001b[0m x_scaled \u001b[38;5;241m=\u001b[39m scaler\u001b[38;5;241m.\u001b[39mfit_transform()\n",
      "\u001b[1;31mTypeError\u001b[0m: TransformerMixin.fit_transform() missing 1 required positional argument: 'X'"
     ]
    }
   ],
   "source": [
    "from sklearn.preprocessing import StandardScaler, MinMaxScaler\n",
    "\n",
    "scaler = StandardScaler()\n",
    "x_scaled = scaler.fit_transform()\n",
    "\n",
    "scaler = MinMaxScaler()\n",
    "x_scaled = scaler.fit_transform()\n",
    "\n",
    "\n"
   ]
  },
  {
   "cell_type": "code",
   "execution_count": 7,
   "id": "2e2668dc",
   "metadata": {},
   "outputs": [
    {
     "name": "stdout",
     "output_type": "stream",
     "text": [
      "Standard Scaler Output:\n",
      "   StudyHours  TestScore\n",
      "0   -1.414214  -1.414214\n",
      "1   -0.707107  -0.707107\n",
      "2    0.000000   0.000000\n",
      "3    0.707107   0.707107\n",
      "4    1.414214   1.414214\n",
      "\n",
      "MinMax Scaled Output\n",
      "   StudyHours  TestScore\n",
      "0        0.00       0.00\n",
      "1        0.25       0.25\n",
      "2        0.50       0.50\n",
      "3        0.75       0.75\n",
      "4        1.00       1.00\n",
      "Training Data\n",
      "   StudyHours\n",
      "4           5\n",
      "2           3\n",
      "0           1\n",
      "3           4\n",
      "Test Data\n",
      "   StudyHours\n",
      "1           2\n",
      "Training Data\n",
      "   TestScore\n",
      "4         80\n",
      "2         60\n",
      "0         40\n",
      "3         70\n",
      "Test Data\n",
      "   TestScore\n",
      "1         50\n"
     ]
    }
   ],
   "source": [
    "import pandas as pd\n",
    "from sklearn.preprocessing import StandardScaler, MinMaxScaler\n",
    "from sklearn.model_selection import train_test_split\n",
    "\n",
    "data = {\n",
    "    'StudyHours':[1,2,3,4,5],\n",
    "    'TestScore':[40,50,60,70,80]\n",
    "}\n",
    "\n",
    "df = pd.DataFrame(data)\n",
    "\n",
    "standard_scaler = StandardScaler()\n",
    "standard_scaled = standard_scaler.fit_transform(df)\n",
    "\n",
    "print(\"Standard Scaler Output:\")\n",
    "print(pd.DataFrame(standard_scaled, columns=['StudyHours','TestScore']))\n",
    "\n",
    "minmax_scaler = MinMaxScaler()\n",
    "minmax_scaled = minmax_scaler.fit_transform(df)\n",
    "\n",
    "print(\"\\nMinMax Scaled Output\")\n",
    "print(pd.DataFrame(minmax_scaled, columns=[\"StudyHours\", \"TestScore\"]))\n",
    "\n",
    "x = df[['StudyHours']]\n",
    "y = df[['TestScore']]\n",
    "\n",
    "x_train, x_test, y_train, y_test = train_test_split(x,y, test_size=0.2,random_state=42)\n",
    "print(\"Training Data\")\n",
    "print(x_train)\n",
    "\n",
    "print(\"Test Data\")\n",
    "print(x_test)\n",
    "\n",
    "print(\"Training Data\")\n",
    "print(y_train)\n",
    "\n",
    "print('Test Data')\n",
    "print(y_test)\n",
    "\n",
    "\n"
   ]
  },
  {
   "cell_type": "code",
   "execution_count": null,
   "id": "38f1ec50",
   "metadata": {},
   "outputs": [],
   "source": []
  }
 ],
 "metadata": {
  "kernelspec": {
   "display_name": "Python 3",
   "language": "python",
   "name": "python3"
  },
  "language_info": {
   "codemirror_mode": {
    "name": "ipython",
    "version": 3
   },
   "file_extension": ".py",
   "mimetype": "text/x-python",
   "name": "python",
   "nbconvert_exporter": "python",
   "pygments_lexer": "ipython3",
   "version": "3.12.6"
  }
 },
 "nbformat": 4,
 "nbformat_minor": 5
}
