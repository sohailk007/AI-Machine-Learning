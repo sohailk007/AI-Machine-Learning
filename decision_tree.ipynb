{
 "cells": [
  {
   "cell_type": "code",
   "execution_count": 1,
   "id": "4fb46943",
   "metadata": {},
   "outputs": [
    {
     "name": "stdout",
     "output_type": "stream",
     "text": [
      "This is likely an Orange\n"
     ]
    }
   ],
   "source": [
    "from sklearn.tree import DecisionTreeClassifier\n",
    "\n",
    "x = [\n",
    "    [7, 2], #Apple\n",
    "    [8, 3], #Apple\n",
    "    [9, 8], #Orange\n",
    "    [10, 9] #Orange\n",
    "]\n",
    "\n",
    "y = [0, 0, 1, 1] #0=Apple, 1=Orange\n",
    "\n",
    "model = DecisionTreeClassifier()\n",
    "\n",
    "model.fit(x, y)\n",
    "\n",
    "size = float(input(\"Enter the fruit size in cm: \"))\n",
    "shade = float(input(\"Enter the color shade (1-10): \"))\n",
    "\n",
    "result = model.predict([[size, shade]])[0]\n",
    "\n",
    "if result == 0:\n",
    "    print(\"This is likely an Apple\")\n",
    "else:\n",
    "    print(\"This is likely an Orange\")"
   ]
  }
 ],
 "metadata": {
  "kernelspec": {
   "display_name": "Python 3",
   "language": "python",
   "name": "python3"
  },
  "language_info": {
   "codemirror_mode": {
    "name": "ipython",
    "version": 3
   },
   "file_extension": ".py",
   "mimetype": "text/x-python",
   "name": "python",
   "nbconvert_exporter": "python",
   "pygments_lexer": "ipython3",
   "version": "3.12.6"
  }
 },
 "nbformat": 4,
 "nbformat_minor": 5
}
