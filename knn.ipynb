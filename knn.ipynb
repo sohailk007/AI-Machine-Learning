{
 "cells": [
  {
   "cell_type": "code",
   "execution_count": null,
   "id": "c6935927",
   "metadata": {},
   "outputs": [
    {
     "name": "stdout",
     "output_type": "stream",
     "text": [
      "This is likely an Oraange\n"
     ]
    }
   ],
   "source": [
    "from sklearn.neighbors import KNeighborsClassifier\n",
    "\n",
    "x = [\n",
    "    [180,7],\n",
    "    [200,7.5],\n",
    "    [250,8],\n",
    "    [300,8.5],\n",
    "    [330,9],\n",
    "    [360,9.5]\n",
    "]\n",
    "\n",
    "# = Apple, 1=Orange\n",
    "y = [0, 0, 0, 1, 1, 1]\n",
    "\n",
    "model = KNeighborsClassifier(n_neighbors = 3)\n",
    "\n",
    "model.fit(x, y)\n",
    "\n",
    "weight = float(input(\"Enter the weight in grams: \"))\n",
    "size = float(input(\"Enter the size in cm: \"))\n",
    "\n",
    "prediction = model.predict([[weight, size]])[0]\n",
    "\n",
    "if prediction == 0:\n",
    "    print(\"This is likely an Apple\")\n",
    "else:\n",
    "    print(\"This is likely an Orange\")"
   ]
  }
 ],
 "metadata": {
  "kernelspec": {
   "display_name": "Python 3",
   "language": "python",
   "name": "python3"
  },
  "language_info": {
   "codemirror_mode": {
    "name": "ipython",
    "version": 3
   },
   "file_extension": ".py",
   "mimetype": "text/x-python",
   "name": "python",
   "nbconvert_exporter": "python",
   "pygments_lexer": "ipython3",
   "version": "3.12.6"
  }
 },
 "nbformat": 4,
 "nbformat_minor": 5
}
