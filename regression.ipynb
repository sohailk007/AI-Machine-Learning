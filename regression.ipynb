{
 "cells": [
  {
   "cell_type": "code",
   "execution_count": 3,
   "id": "8f363a24",
   "metadata": {},
   "outputs": [
    {
     "name": "stdout",
     "output_type": "stream",
     "text": [
      "Based on your hours 8.0 you may score around [126.5]\n"
     ]
    }
   ],
   "source": [
    "from sklearn.linear_model import LinearRegression\n",
    "\n",
    "x = [[1], [2], [3], [4], [5]]\n",
    "y = [40, 50, 65, 75, 90]\n",
    "\n",
    "model = LinearRegression()\n",
    "\n",
    "model.fit(x, y)\n",
    "\n",
    "hours = float(input(\"Enter how many hours you studies = \"))\n",
    "predicted_marks = model.predict([[hours]])\n",
    "\n",
    "print(f\"Based on your hours {hours} you may score around {predicted_marks}\")"
   ]
  },
  {
   "cell_type": "code",
   "execution_count": 2,
   "id": "be981acd",
   "metadata": {},
   "outputs": [
    {
     "name": "stdout",
     "output_type": "stream",
     "text": [
      "Based on hours 2.0, you are likely to Fail\n"
     ]
    }
   ],
   "source": [
    "from sklearn.linear_model import LogisticRegression\n",
    "\n",
    "X = [[1], [2], [3], [4], [5]] # hour studied input\n",
    "y = [0, 0, 1, 1, 1] # result 0 F, 1 P\n",
    "\n",
    "model = LogisticRegression()\n",
    "\n",
    "model.fit(X, y)\n",
    "\n",
    "hours = float(input(\"Enter how many hours you studies\"))\n",
    "\n",
    "result = model.predict([[hours]])[0]\n",
    "\n",
    "if result == 1:\n",
    "    print(f\"Based on hours {hours}, you are likely to Pass\")\n",
    "else:\n",
    "    print(f\"Based on hours {hours}, you are likely to Fail\")\n"
   ]
  }
 ],
 "metadata": {
  "kernelspec": {
   "display_name": "Python 3",
   "language": "python",
   "name": "python3"
  },
  "language_info": {
   "codemirror_mode": {
    "name": "ipython",
    "version": 3
   },
   "file_extension": ".py",
   "mimetype": "text/x-python",
   "name": "python",
   "nbconvert_exporter": "python",
   "pygments_lexer": "ipython3",
   "version": "3.12.6"
  }
 },
 "nbformat": 4,
 "nbformat_minor": 5
}
